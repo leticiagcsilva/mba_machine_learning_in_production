{
 "cells": [
  {
   "cell_type": "markdown",
   "id": "c98f698a-9453-40c2-9c62-5957a6246053",
   "metadata": {},
   "source": [
    "## Census Profile Analysis"
   ]
  },
  {
   "cell_type": "markdown",
   "id": "41e4227b-dfdf-475b-91d9-8bb8b2681feb",
   "metadata": {
    "jp-MarkdownHeadingCollapsed": true
   },
   "source": [
    "### Spark Inicialization"
   ]
  },
  {
   "cell_type": "code",
   "execution_count": 1,
   "id": "60b94771-dde6-44c7-8c32-67d0df0c2a9f",
   "metadata": {},
   "outputs": [
    {
     "name": "stderr",
     "output_type": "stream",
     "text": [
      "25/03/31 20:13:43 WARN Utils: Your hostname, MacBook-Pro-de-Leticia.local resolves to a loopback address: 127.0.0.1; using 192.168.0.220 instead (on interface en0)\n",
      "25/03/31 20:13:43 WARN Utils: Set SPARK_LOCAL_IP if you need to bind to another address\n",
      "Setting default log level to \"WARN\".\n",
      "To adjust logging level use sc.setLogLevel(newLevel). For SparkR, use setLogLevel(newLevel).\n",
      "25/03/31 20:13:43 WARN NativeCodeLoader: Unable to load native-hadoop library for your platform... using builtin-java classes where applicable\n"
     ]
    }
   ],
   "source": [
    "from pyspark.sql import SparkSession\n",
    "\n",
    "spark = SparkSession.builder \\\n",
    "    .appName(\"CensoPySpark\") \\\n",
    "    .getOrCreate()"
   ]
  },
  {
   "cell_type": "markdown",
   "id": "f74a477f-55d1-48b4-801e-435dc2dbe4d6",
   "metadata": {
    "jp-MarkdownHeadingCollapsed": true
   },
   "source": [
    "### Read Database"
   ]
  },
  {
   "cell_type": "code",
   "execution_count": 2,
   "id": "8d946bdd-8fe0-425f-aa80-189bb6b2fdd1",
   "metadata": {},
   "outputs": [
    {
     "name": "stdout",
     "output_type": "stream",
     "text": [
      "+---+----------------+------+---------+---+------------------+-----------------+-------------+-----+------+----+----+----+-------------+-----+\n",
      "|_c0|             _c1|   _c2|      _c3|_c4|               _c5|              _c6|          _c7|  _c8|   _c9|_c10|_c11|_c12|         _c13| _c14|\n",
      "+---+----------------+------+---------+---+------------------+-----------------+-------------+-----+------+----+----+----+-------------+-----+\n",
      "| 39|       State-gov| 77516|Bachelors| 13|     Never-married|     Adm-clerical|Not-in-family|White|  Male|2174|   0|  40|United-States|<=50K|\n",
      "| 50|Self-emp-not-inc| 83311|Bachelors| 13|Married-civ-spouse|  Exec-managerial|      Husband|White|  Male|   0|   0|  13|United-States|<=50K|\n",
      "| 38|         Private|215646|  HS-grad|  9|          Divorced|Handlers-cleaners|Not-in-family|White|  Male|   0|   0|  40|United-States|<=50K|\n",
      "| 53|         Private|234721|     11th|  7|Married-civ-spouse|Handlers-cleaners|      Husband|Black|  Male|   0|   0|  40|United-States|<=50K|\n",
      "| 28|         Private|338409|Bachelors| 13|Married-civ-spouse|   Prof-specialty|         Wife|Black|Female|   0|   0|  40|         Cuba|<=50K|\n",
      "+---+----------------+------+---------+---+------------------+-----------------+-------------+-----+------+----+----+----+-------------+-----+\n",
      "only showing top 5 rows\n",
      "\n"
     ]
    }
   ],
   "source": [
    "df = spark.read.csv(\"../data/adult-preprocessed.data\", header=False, inferSchema=True)\n",
    "df.show(5)"
   ]
  },
  {
   "cell_type": "markdown",
   "id": "e0d62924-c098-4bf4-b8c0-e923687a2068",
   "metadata": {
    "jp-MarkdownHeadingCollapsed": true
   },
   "source": [
    "### Data pre-processing"
   ]
  },
  {
   "cell_type": "code",
   "execution_count": 3,
   "id": "5e6f2ec6-0d33-495d-a93d-bd34e8d25565",
   "metadata": {},
   "outputs": [
    {
     "name": "stdout",
     "output_type": "stream",
     "text": [
      "root\n",
      " |-- age: integer (nullable = true)\n",
      " |-- workclass: string (nullable = true)\n",
      " |-- fnlwgt: integer (nullable = true)\n",
      " |-- education: string (nullable = true)\n",
      " |-- education_num: integer (nullable = true)\n",
      " |-- marital_status: string (nullable = true)\n",
      " |-- occupation: string (nullable = true)\n",
      " |-- relationship: string (nullable = true)\n",
      " |-- race: string (nullable = true)\n",
      " |-- sex: string (nullable = true)\n",
      " |-- capital_gain: integer (nullable = true)\n",
      " |-- capital_loss: integer (nullable = true)\n",
      " |-- hours_per_week: integer (nullable = true)\n",
      " |-- native_country: string (nullable = true)\n",
      " |-- income: string (nullable = true)\n",
      "\n"
     ]
    }
   ],
   "source": [
    "columns = [\"age\", \"workclass\", \"fnlwgt\", \"education\", \"education_num\", \"marital_status\",\n",
    "           \"occupation\", \"relationship\", \"race\", \"sex\", \"capital_gain\", \"capital_loss\",\n",
    "           \"hours_per_week\", \"native_country\", \"income\"]\n",
    "\n",
    "df = df.toDF(*columns)\n",
    "df.printSchema()"
   ]
  },
  {
   "cell_type": "code",
   "execution_count": 4,
   "id": "ab748825-c076-41a8-8d8a-df56908c9473",
   "metadata": {},
   "outputs": [
    {
     "name": "stdout",
     "output_type": "stream",
     "text": [
      "+---+---------+------+---------+-------------+--------------+----------+------------+----+---+------------+------------+--------------+--------------+------+\n",
      "|age|workclass|fnlwgt|education|education_num|marital_status|occupation|relationship|race|sex|capital_gain|capital_loss|hours_per_week|native_country|income|\n",
      "+---+---------+------+---------+-------------+--------------+----------+------------+----+---+------------+------------+--------------+--------------+------+\n",
      "|  0|        0|     0|        0|            0|             0|         0|           0|   0|  0|           0|           0|             0|             0|     0|\n",
      "+---+---------+------+---------+-------------+--------------+----------+------------+----+---+------------+------------+--------------+--------------+------+\n",
      "\n"
     ]
    }
   ],
   "source": [
    "from pyspark.sql.functions import col, count, when\n",
    "\n",
    "df.select([count(when(col(c).isNull(), c)).alias(c) for c in df.columns]).show()"
   ]
  },
  {
   "cell_type": "code",
   "execution_count": 5,
   "id": "0d1b0151-a0d8-4208-837b-e82ddf5c7708",
   "metadata": {},
   "outputs": [],
   "source": [
    "from pyspark.ml.feature import StringIndexer\n",
    "\n",
    "categorical_cols = [\"workclass\", \"education\", \"marital_status\", \"occupation\",\n",
    "                    \"relationship\", \"race\", \"sex\", \"native_country\"]\n",
    "indexers = [StringIndexer(inputCol=col, outputCol=f\"{col}_index\", handleInvalid=\"keep\") for col in categorical_cols]\n",
    "income_indexer = StringIndexer(inputCol=\"income\", outputCol=\"label\", handleInvalid=\"keep\")"
   ]
  },
  {
   "cell_type": "code",
   "execution_count": 6,
   "id": "13191f9b-2455-407c-9ab8-ab5e56593ff5",
   "metadata": {},
   "outputs": [],
   "source": [
    "from pyspark.ml.feature import VectorAssembler, StandardScaler\n",
    "\n",
    "numeric_cols = [\"age\", \"education_num\", \"hours_per_week\", \"capital_gain\", \"capital_loss\"]\n",
    "feature_cols = [f\"{col}_index\" for col in categorical_cols] + numeric_cols\n",
    "assembler = VectorAssembler(inputCols=feature_cols, outputCol=\"features_unscaled\")\n",
    "scaler = StandardScaler(inputCol=\"features_unscaled\", outputCol=\"features\", withMean=True, withStd=True)"
   ]
  },
  {
   "cell_type": "code",
   "execution_count": 7,
   "id": "63e93153-4146-4031-80fc-bc1055109581",
   "metadata": {},
   "outputs": [
    {
     "name": "stderr",
     "output_type": "stream",
     "text": [
      "25/03/31 20:16:31 WARN SparkStringUtils: Truncated the string representation of a plan since it was too large. This behavior can be adjusted by setting 'spark.sql.debug.maxToStringFields'.\n"
     ]
    },
    {
     "name": "stdout",
     "output_type": "stream",
     "text": [
      "+-------------------------------------------------------------------------------------------------------------------------------------------------------------------------------------------------------------------------------------------------------------------------+-----+\n",
      "|features                                                                                                                                                                                                                                                                 |label|\n",
      "+-------------------------------------------------------------------------------------------------------------------------------------------------------------------------------------------------------------------------------------------------------------------------+-----+\n",
      "|[1.9134758100760272,-0.14413619829615387,0.10391305514575644,-0.3481097733063079,-0.16706288859734217,-0.35340339299299345,-0.7030605487269814,-0.23293985821957783,0.03067008637999638,1.1347213388479223,-0.035428902921321385,0.14845061558793698,-0.2166562000280365]|0.0  |\n",
      "|[0.0687410750636747,-0.14413619829615387,-0.8063675444240641,-0.6548620216521409,-0.902659199025763,-0.35340339299299345,-0.7030605487269814,-0.23293985821957783,0.8370961257882483,1.1347213388479223,-2.2221189981592726,-0.14591824281680124,-0.2166562000280365]    |0.0  |\n",
      "|[-0.5461705032737761,-0.7681929435552565,1.014193654715577,1.4924037167686908,-0.16706288859734217,-0.35340339299299345,-0.7030605487269814,-0.23293985821957783,-0.04264137174802653,-0.4200531736175132,-0.035428902921321385,-0.14591824281680124,-0.2166562000280365]|0.0  |\n",
      "|[-0.5461705032737761,0.7919489195925,-0.8063675444240641,1.4924037167686908,-0.902659199025763,1.2406079491935738,-0.7030605487269814,-0.23293985821957783,1.057030500172317,-1.197440429850231,-0.035428902921321385,-0.14591824281680124,-0.2166562000280365]          |0.0  |\n",
      "|[-0.5461705032737761,-0.14413619829615387,-0.8063675444240641,-1.268366518343807,2.03972604268792,1.2406079491935738,1.4223089180912565,1.8711439968921348,-0.7757559530282556,1.1347213388479223,-0.035428902921321385,-0.14591824281680124,-0.2166562000280365]        |0.0  |\n",
      "+-------------------------------------------------------------------------------------------------------------------------------------------------------------------------------------------------------------------------------------------------------------------------+-----+\n",
      "only showing top 5 rows\n",
      "\n"
     ]
    }
   ],
   "source": [
    "from pyspark.ml import Pipeline\n",
    "\n",
    "pipeline = Pipeline(stages=indexers + [income_indexer, assembler, scaler])\n",
    "pipeline_model = pipeline.fit(df)\n",
    "df_prepared = pipeline_model.transform(df)\n",
    "df_prepared.select(\"features\", \"label\").show(5, truncate=False)"
   ]
  },
  {
   "cell_type": "markdown",
   "id": "b9ff6ee7-ef59-4b97-80ec-fcc3dee266c7",
   "metadata": {
    "jp-MarkdownHeadingCollapsed": true
   },
   "source": [
    "### K-Means Clustering"
   ]
  },
  {
   "cell_type": "code",
   "execution_count": 12,
   "id": "cf905b49-fb4f-4d9e-91d9-0a5cf4459064",
   "metadata": {},
   "outputs": [
    {
     "name": "stdout",
     "output_type": "stream",
     "text": [
      "K=2 -> WSSSE=368689.76\n",
      "K=3 -> WSSSE=339272.50\n",
      "K=4 -> WSSSE=314121.93\n",
      "K=5 -> WSSSE=304373.37\n",
      "K=6 -> WSSSE=270870.22\n",
      "K=7 -> WSSSE=274581.50\n",
      "K=8 -> WSSSE=244999.53\n",
      "K=9 -> WSSSE=233082.39\n",
      "K=10 -> WSSSE=210382.84\n",
      "K=11 -> WSSSE=236233.66\n",
      "K=12 -> WSSSE=198459.82\n",
      "K=13 -> WSSSE=201554.69\n",
      "K=14 -> WSSSE=186808.61\n",
      "K=15 -> WSSSE=178712.36\n",
      "K=16 -> WSSSE=175085.11\n",
      "K=17 -> WSSSE=178269.03\n",
      "K=18 -> WSSSE=172226.57\n",
      "K=19 -> WSSSE=166610.22\n",
      "K=20 -> WSSSE=168095.88\n",
      "K=21 -> WSSSE=159985.30\n",
      "K=22 -> WSSSE=157271.04\n",
      "K=23 -> WSSSE=154226.46\n",
      "K=24 -> WSSSE=152713.36\n",
      "K=25 -> WSSSE=152613.15\n",
      "K=26 -> WSSSE=148404.70\n",
      "K=27 -> WSSSE=147934.24\n",
      "K=28 -> WSSSE=143992.97\n",
      "K=29 -> WSSSE=143950.33\n",
      "K=30 -> WSSSE=142667.24\n"
     ]
    },
    {
     "data": {
      "image/png": "[encoded data removed]",
      "text/plain": [
       "<Figure size 800x500 with 1 Axes>"
      ]
     },
     "metadata": {},
     "output_type": "display_data"
    }
   ],
   "source": [
    "import matplotlib.pyplot as plt\n",
    "\n",
    "cost = []\n",
    "ks = list(range(2, 31))\n",
    "\n",
    "for k in ks:\n",
    "    kmeans = KMeans(k=k, seed=42, featuresCol=\"features\")\n",
    "    model = kmeans.fit(df_prepared)\n",
    "    wssse = model.summary.trainingCost\n",
    "    cost.append(wssse)\n",
    "    print(f\"K={k} -> WSSSE={wssse:.2f}\")\n",
    "\n",
    "plt.figure(figsize=(8,5))\n",
    "plt.plot(ks, cost, marker='o')\n",
    "plt.xlabel('Number of Clusters (k)')\n",
    "plt.ylabel('WSSSE (Whole Squared Error)')\n",
    "plt.title('Elbow method for k selection')\n",
    "plt.grid(True)\n",
    "plt.show()"
   ]
  },
  {
   "cell_type": "code",
   "execution_count": 13,
   "id": "15e3f0b0-5813-47cd-b500-c7736a5dffdd",
   "metadata": {},
   "outputs": [
    {
     "name": "stdout",
     "output_type": "stream",
     "text": [
      "+-------------------------------------------------------------------------------------------------------------------------------------------------------------------------------------------------------------------------------------------------------------------------+-------+\n",
      "|features                                                                                                                                                                                                                                                                 |cluster|\n",
      "+-------------------------------------------------------------------------------------------------------------------------------------------------------------------------------------------------------------------------------------------------------------------------+-------+\n",
      "|[1.9134758100760272,-0.14413619829615387,0.10391305514575644,-0.3481097733063079,-0.16706288859734217,-0.35340339299299345,-0.7030605487269814,-0.23293985821957783,0.03067008637999638,1.1347213388479223,-0.035428902921321385,0.14845061558793698,-0.2166562000280365]|1      |\n",
      "|[0.0687410750636747,-0.14413619829615387,-0.8063675444240641,-0.6548620216521409,-0.902659199025763,-0.35340339299299345,-0.7030605487269814,-0.23293985821957783,0.8370961257882483,1.1347213388479223,-2.2221189981592726,-0.14591824281680124,-0.2166562000280365]    |6      |\n",
      "|[-0.5461705032737761,-0.7681929435552565,1.014193654715577,1.4924037167686908,-0.16706288859734217,-0.35340339299299345,-0.7030605487269814,-0.23293985821957783,-0.04264137174802653,-0.4200531736175132,-0.035428902921321385,-0.14591824281680124,-0.2166562000280365]|3      |\n",
      "|[-0.5461705032737761,0.7919489195925,-0.8063675444240641,1.4924037167686908,-0.902659199025763,1.2406079491935738,-0.7030605487269814,-0.23293985821957783,1.057030500172317,-1.197440429850231,-0.035428902921321385,-0.14591824281680124,-0.2166562000280365]          |3      |\n",
      "|[-0.5461705032737761,-0.14413619829615387,-0.8063675444240641,-1.268366518343807,2.03972604268792,1.2406079491935738,1.4223089180912565,1.8711439968921348,-0.7757559530282556,1.1347213388479223,-0.035428902921321385,-0.14591824281680124,-0.2166562000280365]        |0      |\n",
      "+-------------------------------------------------------------------------------------------------------------------------------------------------------------------------------------------------------------------------------------------------------------------------+-------+\n",
      "only showing top 5 rows\n",
      "\n"
     ]
    }
   ],
   "source": [
    "from pyspark.ml.clustering import KMeans\n",
    "k=10\n",
    "kmeans = KMeans(k=k, seed=42, featuresCol=\"features\", predictionCol=\"cluster\")\n",
    "kmeans_model = kmeans.fit(df_prepared)\n",
    "df_clustered = kmeans_model.transform(df_prepared)\n",
    "df_clustered.select(\"features\", \"cluster\").show(5, truncate=False)"
   ]
  },
  {
   "cell_type": "code",
   "execution_count": 14,
   "id": "fef2e855-fd5a-47a8-ad85-bf29b04b9922",
   "metadata": {},
   "outputs": [
    {
     "name": "stdout",
     "output_type": "stream",
     "text": [
      "+-------+-----+\n",
      "|cluster|count|\n",
      "+-------+-----+\n",
      "|      0| 8580|\n",
      "|      1| 2816|\n",
      "|      2|  846|\n",
      "|      3| 5306|\n",
      "|      4|  159|\n",
      "|      5| 1436|\n",
      "|      6| 7729|\n",
      "|      7| 1245|\n",
      "|      8| 2842|\n",
      "|      9| 1602|\n",
      "+-------+-----+\n",
      "\n"
     ]
    }
   ],
   "source": [
    "df_clustered.groupBy(\"cluster\").count().orderBy(\"cluster\").show()"
   ]
  },
  {
   "cell_type": "code",
   "execution_count": 18,
   "id": "d11bf008-2082-4e03-aefe-ee0e5d9534c2",
   "metadata": {},
   "outputs": [
    {
     "name": "stdout",
     "output_type": "stream",
     "text": [
      "+--------------------+-------------+\n",
      "|            features|label_cluster|\n",
      "+--------------------+-------------+\n",
      "|[1.91347581007602...|            1|\n",
      "|[0.06874107506367...|            6|\n",
      "|[-0.5461705032737...|            3|\n",
      "|[-0.5461705032737...|            3|\n",
      "|[-0.5461705032737...|            0|\n",
      "+--------------------+-------------+\n",
      "only showing top 5 rows\n",
      "\n"
     ]
    }
   ],
   "source": [
    "df_clustered = df_clustered.withColumnRenamed(\"cluster\", \"label_cluster\")\n",
    "df_clustered.select(\"features\", \"label_cluster\").show(5)"
   ]
  },
  {
   "cell_type": "code",
   "execution_count": 19,
   "id": "8568ad56-f017-4e5c-b5f7-45d648a56b90",
   "metadata": {},
   "outputs": [],
   "source": [
    "from pyspark.ml.classification import RandomForestClassifier\n",
    "\n",
    "rf = RandomForestClassifier(labelCol=\"label_cluster\", featuresCol=\"features\", seed=42)"
   ]
  },
  {
   "cell_type": "code",
   "execution_count": 20,
   "id": "2cbd3c60-dca0-4ca2-8cf8-f384561132b9",
   "metadata": {},
   "outputs": [],
   "source": [
    "from pyspark.ml.evaluation import MulticlassClassificationEvaluator\n",
    "from pyspark.ml.tuning import CrossValidator, ParamGridBuilder\n",
    "\n",
    "evaluator = MulticlassClassificationEvaluator(labelCol=\"label_cluster\", predictionCol=\"prediction\", metricName=\"accuracy\")\n",
    "paramGrid = ParamGridBuilder().addGrid(rf.numTrees, [10, 20]).build()\n",
    "cv = CrossValidator(estimator=rf,\n",
    "                    estimatorParamMaps=paramGrid,\n",
    "                    evaluator=evaluator,\n",
    "                    numFolds=3,\n",
    "                    seed=42)\n",
    "\n",
    "cv_model = cv.fit(df_clustered)"
   ]
  },
  {
   "cell_type": "markdown",
   "id": "af67ea67-e037-4b37-8008-e2b35b28da41",
   "metadata": {},
   "source": [
    "### Model Evaluation"
   ]
  },
  {
   "cell_type": "code",
   "execution_count": 21,
   "id": "5581ef2f-e759-41c0-af85-72e60ed4699e",
   "metadata": {},
   "outputs": [
    {
     "name": "stdout",
     "output_type": "stream",
     "text": [
      "Average accuracy (cross-validation): 0.8391\n"
     ]
    }
   ],
   "source": [
    "df_predictions = cv_model.transform(df_clustered)\n",
    "\n",
    "accuracy = evaluator.evaluate(df_predictions)\n",
    "print(f\"Average accuracy (cross-validation): {accuracy:.4f}\")"
   ]
  },
  {
   "cell_type": "code",
   "execution_count": 22,
   "id": "62fbec96-2b0a-4799-84d3-ea327176d5a9",
   "metadata": {
    "scrolled": true
   },
   "outputs": [
    {
     "name": "stdout",
     "output_type": "stream",
     "text": [
      "+-------------+----------+-----+\n",
      "|label_cluster|prediction|count|\n",
      "+-------------+----------+-----+\n",
      "|            0|       0.0| 8039|\n",
      "|            0|       1.0|   22|\n",
      "|            0|       3.0|   78|\n",
      "|            0|       6.0|  399|\n",
      "|            0|       7.0|    1|\n",
      "|            0|       8.0|   32|\n",
      "|            0|       9.0|    9|\n",
      "|            1|       0.0|  180|\n",
      "|            1|       1.0| 2546|\n",
      "|            1|       3.0|   54|\n",
      "|            1|       5.0|    1|\n",
      "|            1|       6.0|    1|\n",
      "|            1|       7.0|    4|\n",
      "|            1|       8.0|   30|\n",
      "|            2|       0.0|  175|\n",
      "|            2|       1.0|   45|\n",
      "|            2|       2.0|   89|\n",
      "|            2|       3.0|  136|\n",
      "|            2|       6.0|  255|\n",
      "|            2|       7.0|   17|\n",
      "|            2|       8.0|  112|\n",
      "|            2|       9.0|   17|\n",
      "|            3|       0.0|  169|\n",
      "|            3|       1.0|  107|\n",
      "|            3|       3.0| 4406|\n",
      "|            3|       6.0|  601|\n",
      "|            3|       8.0|    4|\n",
      "|            3|       9.0|   19|\n",
      "|            4|       0.0|   19|\n",
      "|            4|       1.0|   39|\n",
      "|            4|       3.0|    3|\n",
      "|            4|       6.0|   92|\n",
      "|            4|       7.0|    2|\n",
      "|            4|       8.0|    3|\n",
      "|            4|       9.0|    1|\n",
      "|            5|       0.0|  263|\n",
      "|            5|       3.0|  152|\n",
      "|            5|       5.0| 1014|\n",
      "|            5|       6.0|    7|\n",
      "|            6|       0.0|   14|\n",
      "|            6|       3.0|  369|\n",
      "|            6|       6.0| 7306|\n",
      "|            6|       8.0|    3|\n",
      "|            6|       9.0|   37|\n",
      "|            7|       0.0|    3|\n",
      "|            7|       1.0|   41|\n",
      "|            7|       2.0|    1|\n",
      "|            7|       3.0|  220|\n",
      "|            7|       5.0|    8|\n",
      "|            7|       6.0|  301|\n",
      "|            7|       7.0|  574|\n",
      "|            7|       8.0|   80|\n",
      "|            7|       9.0|   17|\n",
      "|            8|       0.0|   15|\n",
      "|            8|       1.0|    8|\n",
      "|            8|       3.0|   95|\n",
      "|            8|       5.0|    2|\n",
      "|            8|       6.0|   95|\n",
      "|            8|       8.0| 2627|\n",
      "|            9|       0.0|   91|\n",
      "|            9|       1.0|   67|\n",
      "|            9|       3.0|  164|\n",
      "|            9|       6.0|  496|\n",
      "|            9|       8.0|   63|\n",
      "|            9|       9.0|  721|\n",
      "+-------------+----------+-----+\n",
      "\n"
     ]
    }
   ],
   "source": [
    "df_predictions.groupBy(\"label_cluster\", \"prediction\").count().orderBy(\"label_cluster\", \"prediction\").show(100)"
   ]
  },
  {
   "cell_type": "code",
   "execution_count": 23,
   "id": "70e6cdba-fa5c-413a-a7ac-2e990a37d157",
   "metadata": {},
   "outputs": [
    {
     "name": "stdout",
     "output_type": "stream",
     "text": [
      "Class 0: Precision=0.8964 | Recall=0.9369 | F1-Score=0.8238\n",
      "Class 1: Precision=0.8856 | Recall=0.9041 | F1-Score=0.8238\n",
      "Class 2: Precision=0.9889 | Recall=0.1052 | F1-Score=0.8238\n",
      "Class 3: Precision=0.7761 | Recall=0.8304 | F1-Score=0.8238\n",
      "Class 4: Precision=0.0000 | Recall=0.0000 | F1-Score=0.8238\n",
      "Class 5: Precision=0.9893 | Recall=0.7061 | F1-Score=0.8238\n",
      "Class 6: Precision=0.7648 | Recall=0.9453 | F1-Score=0.8238\n",
      "Class 7: Precision=0.9599 | Recall=0.4610 | F1-Score=0.8238\n",
      "Class 8: Precision=0.8893 | Recall=0.9243 | F1-Score=0.8238\n",
      "Class 9: Precision=0.8782 | Recall=0.4501 | F1-Score=0.8238\n"
     ]
    }
   ],
   "source": [
    "from pyspark.sql.functions import col\n",
    "from pyspark.ml.evaluation import MulticlassClassificationEvaluator\n",
    "\n",
    "evaluator_f1 = MulticlassClassificationEvaluator(labelCol=\"label_cluster\", predictionCol=\"prediction\", metricName=\"f1\")\n",
    "evaluator_precision = MulticlassClassificationEvaluator(labelCol=\"label_cluster\", predictionCol=\"prediction\", metricName=\"precisionByLabel\")\n",
    "evaluator_recall = MulticlassClassificationEvaluator(labelCol=\"label_cluster\", predictionCol=\"prediction\", metricName=\"recallByLabel\")\n",
    "num_classes = df_predictions.select(\"label_cluster\").distinct().count()\n",
    "\n",
    "for i in range(num_classes):\n",
    "    precision = evaluator_precision.evaluate(df_predictions, {evaluator_precision.metricLabel: float(i)})\n",
    "    recall = evaluator_recall.evaluate(df_predictions, {evaluator_recall.metricLabel: float(i)})\n",
    "    f1 = evaluator_f1.evaluate(df_predictions, {evaluator_f1.metricLabel: float(i)})\n",
    "    print(f\"Class {i}: Precision={precision:.4f} | Recall={recall:.4f} | F1-Score={f1:.4f}\")"
   ]
  },
  {
   "cell_type": "code",
   "execution_count": 24,
   "id": "3f3ba245-d412-49cb-bdb5-ae94ada399f0",
   "metadata": {},
   "outputs": [
    {
     "name": "stderr",
     "output_type": "stream",
     "text": [
      "                                                                                "
     ]
    },
    {
     "data": {
      "text/html": [
       "<div>\n",
       "<style scoped>\n",
       "    .dataframe tbody tr th:only-of-type {\n",
       "        vertical-align: middle;\n",
       "    }\n",
       "\n",
       "    .dataframe tbody tr th {\n",
       "        vertical-align: top;\n",
       "    }\n",
       "\n",
       "    .dataframe thead th {\n",
       "        text-align: right;\n",
       "    }\n",
       "</style>\n",
       "<table border=\"1\" class=\"dataframe\">\n",
       "  <thead>\n",
       "    <tr style=\"text-align: right;\">\n",
       "      <th></th>\n",
       "      <th>Cluster</th>\n",
       "      <th>Precision</th>\n",
       "      <th>Recall</th>\n",
       "      <th>F1-Score</th>\n",
       "    </tr>\n",
       "  </thead>\n",
       "  <tbody>\n",
       "    <tr>\n",
       "      <th>0</th>\n",
       "      <td>0</td>\n",
       "      <td>0.896409</td>\n",
       "      <td>0.936946</td>\n",
       "      <td>0.823755</td>\n",
       "    </tr>\n",
       "    <tr>\n",
       "      <th>1</th>\n",
       "      <td>1</td>\n",
       "      <td>0.885565</td>\n",
       "      <td>0.904119</td>\n",
       "      <td>0.823755</td>\n",
       "    </tr>\n",
       "    <tr>\n",
       "      <th>2</th>\n",
       "      <td>2</td>\n",
       "      <td>0.988889</td>\n",
       "      <td>0.105201</td>\n",
       "      <td>0.823755</td>\n",
       "    </tr>\n",
       "    <tr>\n",
       "      <th>3</th>\n",
       "      <td>3</td>\n",
       "      <td>0.776114</td>\n",
       "      <td>0.830381</td>\n",
       "      <td>0.823755</td>\n",
       "    </tr>\n",
       "    <tr>\n",
       "      <th>4</th>\n",
       "      <td>4</td>\n",
       "      <td>0.000000</td>\n",
       "      <td>0.000000</td>\n",
       "      <td>0.823755</td>\n",
       "    </tr>\n",
       "    <tr>\n",
       "      <th>5</th>\n",
       "      <td>5</td>\n",
       "      <td>0.989268</td>\n",
       "      <td>0.706128</td>\n",
       "      <td>0.823755</td>\n",
       "    </tr>\n",
       "    <tr>\n",
       "      <th>6</th>\n",
       "      <td>6</td>\n",
       "      <td>0.764786</td>\n",
       "      <td>0.945271</td>\n",
       "      <td>0.823755</td>\n",
       "    </tr>\n",
       "    <tr>\n",
       "      <th>7</th>\n",
       "      <td>7</td>\n",
       "      <td>0.959866</td>\n",
       "      <td>0.461044</td>\n",
       "      <td>0.823755</td>\n",
       "    </tr>\n",
       "    <tr>\n",
       "      <th>8</th>\n",
       "      <td>8</td>\n",
       "      <td>0.889303</td>\n",
       "      <td>0.924349</td>\n",
       "      <td>0.823755</td>\n",
       "    </tr>\n",
       "    <tr>\n",
       "      <th>9</th>\n",
       "      <td>9</td>\n",
       "      <td>0.878197</td>\n",
       "      <td>0.450062</td>\n",
       "      <td>0.823755</td>\n",
       "    </tr>\n",
       "  </tbody>\n",
       "</table>\n",
       "</div>"
      ],
      "text/plain": [
       "   Cluster  Precision    Recall  F1-Score\n",
       "0        0   0.896409  0.936946  0.823755\n",
       "1        1   0.885565  0.904119  0.823755\n",
       "2        2   0.988889  0.105201  0.823755\n",
       "3        3   0.776114  0.830381  0.823755\n",
       "4        4   0.000000  0.000000  0.823755\n",
       "5        5   0.989268  0.706128  0.823755\n",
       "6        6   0.764786  0.945271  0.823755\n",
       "7        7   0.959866  0.461044  0.823755\n",
       "8        8   0.889303  0.924349  0.823755\n",
       "9        9   0.878197  0.450062  0.823755"
      ]
     },
     "execution_count": 24,
     "metadata": {},
     "output_type": "execute_result"
    }
   ],
   "source": [
    "import pandas as pd\n",
    "\n",
    "metrics = []\n",
    "\n",
    "for i in range(num_classes):\n",
    "    precision = evaluator_precision.evaluate(df_predictions, {evaluator_precision.metricLabel: float(i)})\n",
    "    recall = evaluator_recall.evaluate(df_predictions, {evaluator_recall.metricLabel: float(i)})\n",
    "    f1 = evaluator_f1.evaluate(df_predictions, {evaluator_f1.metricLabel: float(i)})\n",
    "    metrics.append((i, precision, recall, f1))\n",
    "\n",
    "metrics_df = pd.DataFrame(metrics, columns=[\"Cluster\", \"Precision\", \"Recall\", \"F1-Score\"])\n",
    "metrics_df"
   ]
  },
  {
   "cell_type": "code",
   "execution_count": 25,
   "id": "ffd2576a-2fd3-47a8-b2cb-2195ebae7013",
   "metadata": {},
   "outputs": [
    {
     "data": {
      "image/png": "[encoded data removed]",
      "text/plain": [
       "<Figure size 1000x600 with 1 Axes>"
      ]
     },
     "metadata": {},
     "output_type": "display_data"
    }
   ],
   "source": [
    "import matplotlib.pyplot as plt\n",
    "\n",
    "plt.figure(figsize=(10,6))\n",
    "plt.plot(metrics_df[\"Cluster\"], metrics_df[\"F1-Score\"], marker='o', label=\"F1-Score\")\n",
    "plt.plot(metrics_df[\"Cluster\"], metrics_df[\"Precision\"], marker='x', label=\"Precision\", linestyle='--')\n",
    "plt.plot(metrics_df[\"Cluster\"], metrics_df[\"Recall\"], marker='s', label=\"Recall\", linestyle=':')\n",
    "plt.xlabel(\"Cluster\")\n",
    "plt.ylabel(\"Metric\")\n",
    "plt.title(\"Clustered classifier performance\")\n",
    "plt.legend()\n",
    "plt.grid(True)\n",
    "plt.show()"
   ]
  },
  {
   "cell_type": "markdown",
   "id": "8cef2408-cda9-488a-9ddb-4b7a76f72b35",
   "metadata": {},
   "source": [
    "### Conclusão\n",
    "\n",
    "Nesta atividade, foi realizado um pipeline completo de análise de dados do censo utilizando tecnologias em nuvem e PySpark:\n",
    "\n",
    "1. **Pré-processamos** os dados com indexação de variáveis categóricas, montagem de vetores e normalização.\n",
    "2. **Realizamos agrupamento (KMeans)** e identificamos `k = 10` como o melhor número de clusters via método do cotovelo.\n",
    "3. **Usamos os clusters como labels** para treinar um classificador supervisionado com Random Forest.\n",
    "4. **Aplicamos validação cruzada** e analisamos as métricas de performance por cluster.\n",
    "5. Identificamos **desempenho variado entre os grupos**, com alguns clusters bem modelados e outros com baixo recall ou precisão nula.\n",
    "\n",
    "**Next Steps**:\n",
    "- Investigar os clusters com baixa performance (ex: 4 clusters).\n",
    "- Testar outros classificadores ou ajustes no número de árvores  do modelo Random Forest.\n",
    "- Explorar técnicas de visualização (como PCA ou t-SNE) para inspeção dos agrupamentos."
   ]
  },
  {
   "cell_type": "markdown",
   "id": "2b5d6d10",
   "metadata": {},
   "source": []
  }
 ],
 "metadata": {
  "kernelspec": {
   "display_name": "Python (eml4)",
   "language": "python",
   "name": "eml4-at2-sobrenome"
  },
  "language_info": {
   "codemirror_mode": {
    "name": "ipython",
    "version": 3
   },
   "file_extension": ".py",
   "mimetype": "text/x-python",
   "name": "python",
   "nbconvert_exporter": "python",
   "pygments_lexer": "ipython3",
   "version": "3.13.2"
  }
 },
 "nbformat": 4,
 "nbformat_minor": 5
}
