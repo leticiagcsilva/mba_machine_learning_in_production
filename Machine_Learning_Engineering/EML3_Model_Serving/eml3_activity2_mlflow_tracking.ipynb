{
 "cells": [
  {
   "cell_type": "markdown",
   "id": "6aaac4ea-02c2-499f-8feb-be1b14cab390",
   "metadata": {},
   "source": [
    "# EML 3.2 - Instrumentação de um experimento para tracking no MLflow"
   ]
  },
  {
   "cell_type": "markdown",
   "id": "cba0a79a-aed9-4bb2-a5c6-acb9f3a591e2",
   "metadata": {},
   "source": [
    "## AAPL stock price forecast"
   ]
  },
  {
   "cell_type": "markdown",
   "id": "c361b3f9-e9a5-4c9e-a88f-d61880b6c8b3",
   "metadata": {},
   "source": [
    "### Import libs"
   ]
  },
  {
   "cell_type": "code",
   "execution_count": 10,
   "id": "7105d19c-0828-4ca4-b9f9-f620bb6348d0",
   "metadata": {},
   "outputs": [
    {
     "name": "stderr",
     "output_type": "stream",
     "text": [
      "2024/09/15 14:20:56 INFO mlflow.tracking.fluent: Experiment with name 'eml3-MLflow_tracking' does not exist. Creating a new experiment.\n"
     ]
    },
    {
     "data": {
      "text/plain": [
       "<Experiment: artifact_location='file:///C:/Users/letic/OneDrive/Documentos/Leticia/01.Academic/2.Post-graduation/MBA%20Machine%20Learning%20in%20Production/Engenharia%20de%20Machine%20Learning/EML3/EML3.2/notebooks/mlruns/149487568618316920', creation_time=1726420856520, experiment_id='149487568618316920', last_update_time=1726420856520, lifecycle_stage='active', name='eml3-MLflow_tracking', tags={}>"
      ]
     },
     "execution_count": 10,
     "metadata": {},
     "output_type": "execute_result"
    }
   ],
   "source": [
    "import pandas as pd\n",
    "import yfinance as yf\n",
    "import mlflow\n",
    "import mlflow.sklearn\n",
    "from sklearn.model_selection import train_test_split\n",
    "from sklearn.linear_model import LinearRegression\n",
    "from sklearn.tree import DecisionTreeRegressor\n",
    "from sklearn.ensemble import RandomForestRegressor\n",
    "from sklearn.metrics import mean_squared_error, mean_absolute_error\n",
    "import joblib\n",
    "import itertools\n",
    "import re\n",
    "\n",
    "mlflow.set_experiment(\"eml3-MLflow_tracking\")"
   ]
  },
  {
   "cell_type": "markdown",
   "id": "a696c813-ac53-46b3-8ff2-3fa846818db4",
   "metadata": {},
   "source": [
    "### Download the data"
   ]
  },
  {
   "cell_type": "code",
   "execution_count": 11,
   "id": "f8e48bc7-89ca-4ed0-9ae3-f568bd39a06c",
   "metadata": {},
   "outputs": [
    {
     "name": "stderr",
     "output_type": "stream",
     "text": [
      "[*********************100%***********************]  1 of 1 completed\n"
     ]
    }
   ],
   "source": [
    "ticker = 'AAPL'\n",
    "start_date = '2020-01-01'\n",
    "end_date = '2023-01-01'\n",
    "data = yf.download(ticker, start=start_date, end=end_date)\n",
    "data = data.dropna()\n",
    "data['Daily Return'] = data['Adj Close'].pct_change()\n",
    "data = data.dropna()\n",
    "data['7-Day MA'] = data['Adj Close'].rolling(window=7).mean()\n",
    "\n",
    "processed_data_path = '../data/processed/processed_data.csv'\n",
    "data.to_csv(processed_data_path, index=False)\n",
    "print(f'Dados salvos em: {processed_data_path}')"
   ]
  },
  {
   "cell_type": "markdown",
   "id": "eb059be8-d112-4d38-85db-2cc96557816c",
   "metadata": {},
   "source": [
    "### Load processed data"
   ]
  },
  {
   "cell_type": "code",
   "execution_count": 13,
   "id": "1b1e013e-7986-48c6-b63a-ed94255ac6e2",
   "metadata": {},
   "outputs": [],
   "source": [
    "data = pd.read_csv(processed_data_path)\n",
    "X = data[['7-Day MA']].dropna()\n",
    "y = data.loc[X.index, 'Adj Close']"
   ]
  },
  {
   "cell_type": "markdown",
   "id": "da5e9945-6868-42d2-8d61-9ef4bc34e405",
   "metadata": {},
   "source": [
    "### Model"
   ]
  },
  {
   "cell_type": "code",
   "execution_count": 14,
   "id": "a0e8d02d-01e3-4119-8726-3e60308d3b43",
   "metadata": {},
   "outputs": [],
   "source": [
    "X_train, X_test, y_train, y_test = train_test_split(X, y, test_size=0.2, random_state=42)"
   ]
  },
  {
   "cell_type": "code",
   "execution_count": 15,
   "id": "eb4da765-f544-4228-bccb-17821d8ff95d",
   "metadata": {},
   "outputs": [],
   "source": [
    "def safe_filename(base, params):\n",
    "    params_str = \"_\".join([f\"{k}-{v}\" for k, v in params.items()])\n",
    "    safe_str = re.sub(r'[^\\w\\-_\\. ]', '_', params_str)  # Substitui caracteres inválidos por '_'\n",
    "    return f\"{base}_{safe_str}.pkl\"\n",
    "\n",
    "def grid_search(models_and_params):\n",
    "    for model_name, (model, param_grid) in models_and_params.items():\n",
    "        param_keys = param_grid.keys()\n",
    "        param_combinations = list(itertools.product(*param_grid.values()))\n",
    "\n",
    "        for param_combination in param_combinations:\n",
    "            params = dict(zip(param_keys, param_combination))\n",
    "\n",
    "            with mlflow.start_run():\n",
    "                mlflow.log_param(\"model\", model_name)\n",
    "                mlflow.log_params(params)\n",
    "\n",
    "                model.set_params(**params)\n",
    "\n",
    "                model.fit(X_train, y_train)\n",
    "\n",
    "                score = model.score(X_test, y_test)\n",
    "                mlflow.log_metric(\"R2\", score)\n",
    "\n",
    "                predictions = model.predict(X_test)\n",
    "\n",
    "                mse = mean_squared_error(y_test, predictions)\n",
    "                mae = mean_absolute_error(y_test, predictions)\n",
    "\n",
    "                mlflow.log_metric(\"MSE\", mse)\n",
    "                mlflow.log_metric(\"MAE\", mae)\n",
    "\n",
    "                model_path = f'../models/{safe_filename(model_name, params)}'\n",
    "                joblib.dump(model, model_path)\n",
    "                mlflow.sklearn.log_model(model, \"model\")\n",
    "                \n",
    "                print(f'{model_name} salvo em: {model_path} com hiperparâmetros: {params}')\n",
    "                print(f'{model_name} - Hiperparâmetros: {params}, MSE: {mse}, MAE: {mae}, R2: {score}')"
   ]
  },
  {
   "cell_type": "code",
   "execution_count": 16,
   "id": "9269dcb3-d0b4-4a14-8034-0673f9f4e5d7",
   "metadata": {},
   "outputs": [],
   "source": [
    "models_and_params = {\n",
    "    \"Linear Regression\": (LinearRegression(), {}),\n",
    "    \"Decision Tree\": (\n",
    "        DecisionTreeRegressor(), \n",
    "        {\"max_depth\": [3, 5, 10], \"min_samples_split\": [2, 10]}\n",
    "    ),\n",
    "    \"Random Forest\": (\n",
    "        RandomForestRegressor(), \n",
    "        {\"n_estimators\": [50, 100], \"max_depth\": [5, 10], \"min_samples_split\": [2, 5]}\n",
    "    )\n",
    "}"
   ]
  },
  {
   "cell_type": "code",
   "execution_count": 17,
   "id": "0721b33f-91e6-4ace-8858-dec6c289084e",
   "metadata": {},
   "outputs": [
    {
     "name": "stderr",
     "output_type": "stream",
     "text": [
      "2024/09/15 14:22:43 WARNING mlflow.models.model: Model logged without a signature and input example. Please set `input_example` parameter when logging the model to auto infer the model signature.\n"
     ]
    },
    {
     "name": "stdout",
     "output_type": "stream",
     "text": [
      "Linear Regression salvo em: ../models/Linear Regression_.pkl com hiperparâmetros: {}\n",
      "Linear Regression - Hiperparâmetros: {}, MSE: 12.215358153037984, MAE: 2.627331747796991, R2: 0.9868074223289522\n"
     ]
    },
    {
     "name": "stderr",
     "output_type": "stream",
     "text": [
      "2024/09/15 14:22:45 WARNING mlflow.models.model: Model logged without a signature and input example. Please set `input_example` parameter when logging the model to auto infer the model signature.\n"
     ]
    },
    {
     "name": "stdout",
     "output_type": "stream",
     "text": [
      "Decision Tree salvo em: ../models/Decision Tree_max_depth-3_min_samples_split-2.pkl com hiperparâmetros: {'max_depth': 3, 'min_samples_split': 2}\n",
      "Decision Tree - Hiperparâmetros: {'max_depth': 3, 'min_samples_split': 2}, MSE: 32.38842101871362, MAE: 4.581575197652446, R2: 0.9650205295187593\n"
     ]
    },
    {
     "name": "stderr",
     "output_type": "stream",
     "text": [
      "2024/09/15 14:22:48 WARNING mlflow.models.model: Model logged without a signature and input example. Please set `input_example` parameter when logging the model to auto infer the model signature.\n"
     ]
    },
    {
     "name": "stdout",
     "output_type": "stream",
     "text": [
      "Decision Tree salvo em: ../models/Decision Tree_max_depth-3_min_samples_split-10.pkl com hiperparâmetros: {'max_depth': 3, 'min_samples_split': 10}\n",
      "Decision Tree - Hiperparâmetros: {'max_depth': 3, 'min_samples_split': 10}, MSE: 32.38842101871362, MAE: 4.581575197652446, R2: 0.9650205295187593\n"
     ]
    },
    {
     "name": "stderr",
     "output_type": "stream",
     "text": [
      "2024/09/15 14:22:51 WARNING mlflow.models.model: Model logged without a signature and input example. Please set `input_example` parameter when logging the model to auto infer the model signature.\n"
     ]
    },
    {
     "name": "stdout",
     "output_type": "stream",
     "text": [
      "Decision Tree salvo em: ../models/Decision Tree_max_depth-5_min_samples_split-2.pkl com hiperparâmetros: {'max_depth': 5, 'min_samples_split': 2}\n",
      "Decision Tree - Hiperparâmetros: {'max_depth': 5, 'min_samples_split': 2}, MSE: 16.124313894243375, MAE: 3.032703784170266, R2: 0.9825857530514358\n"
     ]
    },
    {
     "name": "stderr",
     "output_type": "stream",
     "text": [
      "2024/09/15 14:22:53 WARNING mlflow.models.model: Model logged without a signature and input example. Please set `input_example` parameter when logging the model to auto infer the model signature.\n"
     ]
    },
    {
     "name": "stdout",
     "output_type": "stream",
     "text": [
      "Decision Tree salvo em: ../models/Decision Tree_max_depth-5_min_samples_split-10.pkl com hiperparâmetros: {'max_depth': 5, 'min_samples_split': 10}\n",
      "Decision Tree - Hiperparâmetros: {'max_depth': 5, 'min_samples_split': 10}, MSE: 16.221489674382592, MAE: 3.042636420007397, R2: 0.9824808032815502\n"
     ]
    },
    {
     "name": "stderr",
     "output_type": "stream",
     "text": [
      "2024/09/15 14:22:56 WARNING mlflow.models.model: Model logged without a signature and input example. Please set `input_example` parameter when logging the model to auto infer the model signature.\n"
     ]
    },
    {
     "name": "stdout",
     "output_type": "stream",
     "text": [
      "Decision Tree salvo em: ../models/Decision Tree_max_depth-10_min_samples_split-2.pkl com hiperparâmetros: {'max_depth': 10, 'min_samples_split': 2}\n",
      "Decision Tree - Hiperparâmetros: {'max_depth': 10, 'min_samples_split': 2}, MSE: 20.730018289901338, MAE: 3.3959805360091817, R2: 0.9776115957481157\n"
     ]
    },
    {
     "name": "stderr",
     "output_type": "stream",
     "text": [
      "2024/09/15 14:22:58 WARNING mlflow.models.model: Model logged without a signature and input example. Please set `input_example` parameter when logging the model to auto infer the model signature.\n"
     ]
    },
    {
     "name": "stdout",
     "output_type": "stream",
     "text": [
      "Decision Tree salvo em: ../models/Decision Tree_max_depth-10_min_samples_split-10.pkl com hiperparâmetros: {'max_depth': 10, 'min_samples_split': 10}\n",
      "Decision Tree - Hiperparâmetros: {'max_depth': 10, 'min_samples_split': 10}, MSE: 18.843866755830682, MAE: 3.205999266435142, R2: 0.9796486379945115\n"
     ]
    },
    {
     "name": "stderr",
     "output_type": "stream",
     "text": [
      "2024/09/15 14:23:01 WARNING mlflow.models.model: Model logged without a signature and input example. Please set `input_example` parameter when logging the model to auto infer the model signature.\n"
     ]
    },
    {
     "name": "stdout",
     "output_type": "stream",
     "text": [
      "Random Forest salvo em: ../models/Random Forest_n_estimators-50_max_depth-5_min_samples_split-2.pkl com hiperparâmetros: {'n_estimators': 50, 'max_depth': 5, 'min_samples_split': 2}\n",
      "Random Forest - Hiperparâmetros: {'n_estimators': 50, 'max_depth': 5, 'min_samples_split': 2}, MSE: 14.630386478527823, MAE: 2.852260432667545, R2: 0.9841991935433\n"
     ]
    },
    {
     "name": "stderr",
     "output_type": "stream",
     "text": [
      "2024/09/15 14:23:03 WARNING mlflow.models.model: Model logged without a signature and input example. Please set `input_example` parameter when logging the model to auto infer the model signature.\n"
     ]
    },
    {
     "name": "stdout",
     "output_type": "stream",
     "text": [
      "Random Forest salvo em: ../models/Random Forest_n_estimators-50_max_depth-5_min_samples_split-5.pkl com hiperparâmetros: {'n_estimators': 50, 'max_depth': 5, 'min_samples_split': 5}\n",
      "Random Forest - Hiperparâmetros: {'n_estimators': 50, 'max_depth': 5, 'min_samples_split': 5}, MSE: 14.88135193879702, MAE: 2.889845707051707, R2: 0.9839281510338728\n"
     ]
    },
    {
     "name": "stderr",
     "output_type": "stream",
     "text": [
      "2024/09/15 14:23:06 WARNING mlflow.models.model: Model logged without a signature and input example. Please set `input_example` parameter when logging the model to auto infer the model signature.\n"
     ]
    },
    {
     "name": "stdout",
     "output_type": "stream",
     "text": [
      "Random Forest salvo em: ../models/Random Forest_n_estimators-50_max_depth-10_min_samples_split-2.pkl com hiperparâmetros: {'n_estimators': 50, 'max_depth': 10, 'min_samples_split': 2}\n",
      "Random Forest - Hiperparâmetros: {'n_estimators': 50, 'max_depth': 10, 'min_samples_split': 2}, MSE: 19.181733262555817, MAE: 3.2504115015384683, R2: 0.9792837424198936\n"
     ]
    },
    {
     "name": "stderr",
     "output_type": "stream",
     "text": [
      "2024/09/15 14:23:09 WARNING mlflow.models.model: Model logged without a signature and input example. Please set `input_example` parameter when logging the model to auto infer the model signature.\n"
     ]
    },
    {
     "name": "stdout",
     "output_type": "stream",
     "text": [
      "Random Forest salvo em: ../models/Random Forest_n_estimators-50_max_depth-10_min_samples_split-5.pkl com hiperparâmetros: {'n_estimators': 50, 'max_depth': 10, 'min_samples_split': 5}\n",
      "Random Forest - Hiperparâmetros: {'n_estimators': 50, 'max_depth': 10, 'min_samples_split': 5}, MSE: 18.403011059320235, MAE: 3.1649245437789957, R2: 0.9801247618170857\n"
     ]
    },
    {
     "name": "stderr",
     "output_type": "stream",
     "text": [
      "2024/09/15 14:23:12 WARNING mlflow.models.model: Model logged without a signature and input example. Please set `input_example` parameter when logging the model to auto infer the model signature.\n"
     ]
    },
    {
     "name": "stdout",
     "output_type": "stream",
     "text": [
      "Random Forest salvo em: ../models/Random Forest_n_estimators-100_max_depth-5_min_samples_split-2.pkl com hiperparâmetros: {'n_estimators': 100, 'max_depth': 5, 'min_samples_split': 2}\n",
      "Random Forest - Hiperparâmetros: {'n_estimators': 100, 'max_depth': 5, 'min_samples_split': 2}, MSE: 15.01038565664444, MAE: 2.8858007217117323, R2: 0.9837887947150846\n"
     ]
    },
    {
     "name": "stderr",
     "output_type": "stream",
     "text": [
      "2024/09/15 14:23:17 WARNING mlflow.models.model: Model logged without a signature and input example. Please set `input_example` parameter when logging the model to auto infer the model signature.\n"
     ]
    },
    {
     "name": "stdout",
     "output_type": "stream",
     "text": [
      "Random Forest salvo em: ../models/Random Forest_n_estimators-100_max_depth-5_min_samples_split-5.pkl com hiperparâmetros: {'n_estimators': 100, 'max_depth': 5, 'min_samples_split': 5}\n",
      "Random Forest - Hiperparâmetros: {'n_estimators': 100, 'max_depth': 5, 'min_samples_split': 5}, MSE: 15.04221063467273, MAE: 2.8967043012186573, R2: 0.9837544237626118\n"
     ]
    },
    {
     "name": "stderr",
     "output_type": "stream",
     "text": [
      "2024/09/15 14:23:21 WARNING mlflow.models.model: Model logged without a signature and input example. Please set `input_example` parameter when logging the model to auto infer the model signature.\n"
     ]
    },
    {
     "name": "stdout",
     "output_type": "stream",
     "text": [
      "Random Forest salvo em: ../models/Random Forest_n_estimators-100_max_depth-10_min_samples_split-2.pkl com hiperparâmetros: {'n_estimators': 100, 'max_depth': 10, 'min_samples_split': 2}\n",
      "Random Forest - Hiperparâmetros: {'n_estimators': 100, 'max_depth': 10, 'min_samples_split': 2}, MSE: 19.362915687942237, MAE: 3.2050385777158206, R2: 0.9790880655359584\n"
     ]
    },
    {
     "name": "stderr",
     "output_type": "stream",
     "text": [
      "2024/09/15 14:23:25 WARNING mlflow.models.model: Model logged without a signature and input example. Please set `input_example` parameter when logging the model to auto infer the model signature.\n"
     ]
    },
    {
     "name": "stdout",
     "output_type": "stream",
     "text": [
      "Random Forest salvo em: ../models/Random Forest_n_estimators-100_max_depth-10_min_samples_split-5.pkl com hiperparâmetros: {'n_estimators': 100, 'max_depth': 10, 'min_samples_split': 5}\n",
      "Random Forest - Hiperparâmetros: {'n_estimators': 100, 'max_depth': 10, 'min_samples_split': 5}, MSE: 18.028861731026506, MAE: 3.129632211747619, R2: 0.9805288428118667\n"
     ]
    }
   ],
   "source": [
    "grid_search(models_and_params)"
   ]
  },
  {
   "cell_type": "code",
   "execution_count": null,
   "id": "efe2541c-6048-429d-9b0b-b6c292f3dbb8",
   "metadata": {},
   "outputs": [],
   "source": []
  }
 ],
 "metadata": {
  "kernelspec": {
   "display_name": "Python 3 (ipykernel)",
   "language": "python",
   "name": "python3"
  },
  "language_info": {
   "codemirror_mode": {
    "name": "ipython",
    "version": 3
   },
   "file_extension": ".py",
   "mimetype": "text/x-python",
   "name": "python",
   "nbconvert_exporter": "python",
   "pygments_lexer": "ipython3",
   "version": "3.11.4"
  }
 },
 "nbformat": 4,
 "nbformat_minor": 5
}
